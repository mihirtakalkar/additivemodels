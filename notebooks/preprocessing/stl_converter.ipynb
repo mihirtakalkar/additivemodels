{
 "cells": [
  {
   "cell_type": "markdown",
   "metadata": {},
   "source": [
    "### Watertight STL to Node Converter\n",
    "Convert tetrahedral meshes in stl format into [PyTorch Geometric](https://pytorch-geometric.readthedocs.io/en/latest/) node representation using the [Trimesh](https://trimesh.org/) library. The converter does not work on non-watertight surfaces, i.e. raw_cloud and raw_norm"
   ]
  },
  {
   "cell_type": "code",
   "execution_count": 5,
   "metadata": {},
   "outputs": [
    {
     "name": "stdout",
     "output_type": "stream",
     "text": [
      "Requirement already satisfied: torch in /Users/mihir/miniconda3/lib/python3.12/site-packages (2.3.1)\n",
      "Requirement already satisfied: filelock in /Users/mihir/miniconda3/lib/python3.12/site-packages (from torch) (3.13.1)\n",
      "Requirement already satisfied: typing-extensions>=4.8.0 in /Users/mihir/miniconda3/lib/python3.12/site-packages (from torch) (4.11.0)\n",
      "Requirement already satisfied: sympy in /Users/mihir/miniconda3/lib/python3.12/site-packages (from torch) (1.12)\n",
      "Requirement already satisfied: networkx in /Users/mihir/miniconda3/lib/python3.12/site-packages (from torch) (3.2.1)\n",
      "Requirement already satisfied: jinja2 in /Users/mihir/miniconda3/lib/python3.12/site-packages (from torch) (3.1.4)\n",
      "Requirement already satisfied: fsspec in /Users/mihir/miniconda3/lib/python3.12/site-packages (from torch) (2024.6.0)\n",
      "Requirement already satisfied: MarkupSafe>=2.0 in /Users/mihir/miniconda3/lib/python3.12/site-packages (from jinja2->torch) (2.1.3)\n",
      "Requirement already satisfied: mpmath>=0.19 in /Users/mihir/miniconda3/lib/python3.12/site-packages (from sympy->torch) (1.3.0)\n"
     ]
    }
   ],
   "source": [
    "!pip install torch"
   ]
  },
  {
   "cell_type": "code",
   "execution_count": 7,
   "metadata": {},
   "outputs": [
    {
     "name": "stdout",
     "output_type": "stream",
     "text": [
      "Requirement already satisfied: torch in /Users/mihir/miniconda3/lib/python3.12/site-packages (2.3.1)\n",
      "Requirement already satisfied: filelock in /Users/mihir/miniconda3/lib/python3.12/site-packages (from torch) (3.13.1)\n",
      "Requirement already satisfied: typing-extensions>=4.8.0 in /Users/mihir/miniconda3/lib/python3.12/site-packages (from torch) (4.11.0)\n",
      "Requirement already satisfied: sympy in /Users/mihir/miniconda3/lib/python3.12/site-packages (from torch) (1.12)\n",
      "Requirement already satisfied: networkx in /Users/mihir/miniconda3/lib/python3.12/site-packages (from torch) (3.2.1)\n",
      "Requirement already satisfied: jinja2 in /Users/mihir/miniconda3/lib/python3.12/site-packages (from torch) (3.1.4)\n",
      "Requirement already satisfied: fsspec in /Users/mihir/miniconda3/lib/python3.12/site-packages (from torch) (2024.6.0)\n",
      "Requirement already satisfied: MarkupSafe>=2.0 in /Users/mihir/miniconda3/lib/python3.12/site-packages (from jinja2->torch) (2.1.3)\n",
      "Requirement already satisfied: mpmath>=0.19 in /Users/mihir/miniconda3/lib/python3.12/site-packages (from sympy->torch) (1.3.0)\n"
     ]
    }
   ],
   "source": [
    "!pip3 install torch"
   ]
  },
  {
   "cell_type": "code",
   "execution_count": 12,
   "metadata": {},
   "outputs": [
    {
     "name": "stdout",
     "output_type": "stream",
     "text": [
      "Requirement already satisfied: numpy in /Users/mihir/miniconda3/lib/python3.12/site-packages (1.26.4)\n"
     ]
    }
   ],
   "source": [
    "!pip install numpy"
   ]
  },
  {
   "cell_type": "code",
   "execution_count": 2,
   "metadata": {},
   "outputs": [],
   "source": [
    "import os\n",
    "import glob\n",
    "import torch\n",
    "from torch_geometric.data import Data\n",
    "import trimesh\n",
    "from torch_geometric.data import DataLoader"
   ]
  },
  {
   "cell_type": "markdown",
   "metadata": {},
   "source": [
    "#### View Watertight STLs using Trimesh"
   ]
  },
  {
   "cell_type": "code",
   "execution_count": 14,
   "metadata": {},
   "outputs": [
    {
     "ename": "TypeError",
     "evalue": "decode() argument 'encoding' must be str, not None",
     "output_type": "error",
     "traceback": [
      "\u001b[0;31m---------------------------------------------------------------------------\u001b[0m",
      "\u001b[0;31mHeaderError\u001b[0m                               Traceback (most recent call last)",
      "File \u001b[0;32m~/miniconda3/lib/python3.12/site-packages/trimesh/exchange/stl.py:46\u001b[0m, in \u001b[0;36mload_stl\u001b[0;34m(file_obj, **kwargs)\u001b[0m\n\u001b[1;32m     41\u001b[0m \u001b[38;5;28;01mtry\u001b[39;00m:\n\u001b[1;32m     42\u001b[0m     \u001b[38;5;66;03m# check the file for a header which matches the file length\u001b[39;00m\n\u001b[1;32m     43\u001b[0m     \u001b[38;5;66;03m# if that is true, it is almost certainly a binary STL file\u001b[39;00m\n\u001b[1;32m     44\u001b[0m     \u001b[38;5;66;03m# if the header doesn't match the file length a HeaderError will be\u001b[39;00m\n\u001b[1;32m     45\u001b[0m     \u001b[38;5;66;03m# raised\u001b[39;00m\n\u001b[0;32m---> 46\u001b[0m     \u001b[38;5;28;01mreturn\u001b[39;00m \u001b[43mload_stl_binary\u001b[49m\u001b[43m(\u001b[49m\u001b[43mfile_obj\u001b[49m\u001b[43m)\u001b[49m\n\u001b[1;32m     47\u001b[0m \u001b[38;5;28;01mexcept\u001b[39;00m HeaderError:\n\u001b[1;32m     48\u001b[0m     \u001b[38;5;66;03m# move the file back to where it was initially\u001b[39;00m\n",
      "File \u001b[0;32m~/miniconda3/lib/python3.12/site-packages/trimesh/exchange/stl.py:113\u001b[0m, in \u001b[0;36mload_stl_binary\u001b[0;34m(file_obj)\u001b[0m\n\u001b[1;32m    112\u001b[0m \u001b[38;5;28;01mif\u001b[39;00m len_data \u001b[38;5;241m!=\u001b[39m len_expected:\n\u001b[0;32m--> 113\u001b[0m     \u001b[38;5;28;01mraise\u001b[39;00m HeaderError(\n\u001b[1;32m    114\u001b[0m         \u001b[38;5;124mf\u001b[39m\u001b[38;5;124m\"\u001b[39m\u001b[38;5;124mBinary STL has incorrect length in header: \u001b[39m\u001b[38;5;132;01m{\u001b[39;00mlen_data\u001b[38;5;132;01m}\u001b[39;00m\u001b[38;5;124m vs \u001b[39m\u001b[38;5;132;01m{\u001b[39;00mlen_expected\u001b[38;5;132;01m}\u001b[39;00m\u001b[38;5;124m\"\u001b[39m\n\u001b[1;32m    115\u001b[0m     )\n\u001b[1;32m    117\u001b[0m blob \u001b[38;5;241m=\u001b[39m np\u001b[38;5;241m.\u001b[39mfrombuffer(file_obj\u001b[38;5;241m.\u001b[39mread(), dtype\u001b[38;5;241m=\u001b[39m_stl_dtype)\n",
      "\u001b[0;31mHeaderError\u001b[0m: Binary STL has incorrect length in header: 99206 vs [3240950752]",
      "\nDuring handling of the above exception, another exception occurred:\n",
      "\u001b[0;31mUnicodeDecodeError\u001b[0m                        Traceback (most recent call last)",
      "File \u001b[0;32m~/miniconda3/lib/python3.12/site-packages/trimesh/util.py:2275\u001b[0m, in \u001b[0;36mdecode_text\u001b[0;34m(text, initial)\u001b[0m\n\u001b[1;32m   2273\u001b[0m \u001b[38;5;28;01mtry\u001b[39;00m:\n\u001b[1;32m   2274\u001b[0m     \u001b[38;5;66;03m# initially guess file is UTF-8 or specified encoding\u001b[39;00m\n\u001b[0;32m-> 2275\u001b[0m     text \u001b[38;5;241m=\u001b[39m \u001b[43mtext\u001b[49m\u001b[38;5;241;43m.\u001b[39;49m\u001b[43mdecode\u001b[49m\u001b[43m(\u001b[49m\u001b[43minitial\u001b[49m\u001b[43m)\u001b[49m\n\u001b[1;32m   2276\u001b[0m \u001b[38;5;28;01mexcept\u001b[39;00m \u001b[38;5;167;01mUnicodeDecodeError\u001b[39;00m:\n\u001b[1;32m   2277\u001b[0m     \u001b[38;5;66;03m# detect different file encodings\u001b[39;00m\n",
      "\u001b[0;31mUnicodeDecodeError\u001b[0m: 'utf-8' codec can't decode byte 0x80 in position 128: invalid start byte",
      "\nDuring handling of the above exception, another exception occurred:\n",
      "\u001b[0;31mTypeError\u001b[0m                                 Traceback (most recent call last)",
      "Cell \u001b[0;32mIn[14], line 3\u001b[0m\n\u001b[1;32m      1\u001b[0m \u001b[38;5;66;03m# TODO: Try non-watertight google drive repository\u001b[39;00m\n\u001b[1;32m      2\u001b[0m \u001b[38;5;66;03m# Load the STL file\u001b[39;00m\n\u001b[0;32m----> 3\u001b[0m mesh_view \u001b[38;5;241m=\u001b[39m \u001b[43mtrimesh\u001b[49m\u001b[38;5;241;43m.\u001b[39;49m\u001b[43mload\u001b[49m\u001b[43m(\u001b[49m\u001b[38;5;124;43m\"\u001b[39;49m\u001b[38;5;124;43m../../data/raw/rawcloud/0a7ab8b4-ab18-4524-b8e7-e773ebc6b268.stl00-1.stl\u001b[39;49m\u001b[38;5;124;43m\"\u001b[39;49m\u001b[43m,\u001b[49m\u001b[43m \u001b[49m\u001b[43mfile_type\u001b[49m\u001b[38;5;241;43m=\u001b[39;49m\u001b[38;5;124;43m'\u001b[39;49m\u001b[38;5;124;43mstl\u001b[39;49m\u001b[38;5;124;43m'\u001b[39;49m\u001b[43m)\u001b[49m\n\u001b[1;32m      5\u001b[0m \u001b[38;5;66;03m# Display the mesh\u001b[39;00m\n\u001b[1;32m      6\u001b[0m mesh_view\u001b[38;5;241m.\u001b[39mshow()\n",
      "File \u001b[0;32m~/miniconda3/lib/python3.12/site-packages/trimesh/exchange/load.py:126\u001b[0m, in \u001b[0;36mload\u001b[0;34m(file_obj, file_type, resolver, force, **kwargs)\u001b[0m\n\u001b[1;32m    123\u001b[0m     loaded \u001b[38;5;241m=\u001b[39m load_path(file_obj, file_type\u001b[38;5;241m=\u001b[39mfile_type, \u001b[38;5;241m*\u001b[39m\u001b[38;5;241m*\u001b[39mkwargs)\n\u001b[1;32m    124\u001b[0m \u001b[38;5;28;01melif\u001b[39;00m file_type \u001b[38;5;129;01min\u001b[39;00m mesh_loaders:\n\u001b[1;32m    125\u001b[0m     \u001b[38;5;66;03m# mesh loaders use mesh loader\u001b[39;00m\n\u001b[0;32m--> 126\u001b[0m     loaded \u001b[38;5;241m=\u001b[39m \u001b[43mload_mesh\u001b[49m\u001b[43m(\u001b[49m\u001b[43mfile_obj\u001b[49m\u001b[43m,\u001b[49m\u001b[43m \u001b[49m\u001b[43mfile_type\u001b[49m\u001b[38;5;241;43m=\u001b[39;49m\u001b[43mfile_type\u001b[49m\u001b[43m,\u001b[49m\u001b[43m \u001b[49m\u001b[43mresolver\u001b[49m\u001b[38;5;241;43m=\u001b[39;49m\u001b[43mresolver\u001b[49m\u001b[43m,\u001b[49m\u001b[43m \u001b[49m\u001b[38;5;241;43m*\u001b[39;49m\u001b[38;5;241;43m*\u001b[39;49m\u001b[43mkwargs\u001b[49m\u001b[43m)\u001b[49m\n\u001b[1;32m    127\u001b[0m \u001b[38;5;28;01melif\u001b[39;00m file_type \u001b[38;5;129;01min\u001b[39;00m compressed_loaders:\n\u001b[1;32m    128\u001b[0m     \u001b[38;5;66;03m# for archives, like ZIP files\u001b[39;00m\n\u001b[1;32m    129\u001b[0m     loaded \u001b[38;5;241m=\u001b[39m load_compressed(file_obj, file_type\u001b[38;5;241m=\u001b[39mfile_type, \u001b[38;5;241m*\u001b[39m\u001b[38;5;241m*\u001b[39mkwargs)\n",
      "File \u001b[0;32m~/miniconda3/lib/python3.12/site-packages/trimesh/exchange/load.py:202\u001b[0m, in \u001b[0;36mload_mesh\u001b[0;34m(file_obj, file_type, resolver, **kwargs)\u001b[0m\n\u001b[1;32m    200\u001b[0m loader \u001b[38;5;241m=\u001b[39m mesh_loaders[file_type]\n\u001b[1;32m    201\u001b[0m tic \u001b[38;5;241m=\u001b[39m now()\n\u001b[0;32m--> 202\u001b[0m results \u001b[38;5;241m=\u001b[39m \u001b[43mloader\u001b[49m\u001b[43m(\u001b[49m\u001b[43mfile_obj\u001b[49m\u001b[43m,\u001b[49m\u001b[43m \u001b[49m\u001b[43mfile_type\u001b[49m\u001b[38;5;241;43m=\u001b[39;49m\u001b[43mfile_type\u001b[49m\u001b[43m,\u001b[49m\u001b[43m \u001b[49m\u001b[43mresolver\u001b[49m\u001b[38;5;241;43m=\u001b[39;49m\u001b[43mresolver\u001b[49m\u001b[43m,\u001b[49m\u001b[43m \u001b[49m\u001b[38;5;241;43m*\u001b[39;49m\u001b[38;5;241;43m*\u001b[39;49m\u001b[43mkwargs\u001b[49m\u001b[43m)\u001b[49m\n\u001b[1;32m    203\u001b[0m \u001b[38;5;28;01mif\u001b[39;00m \u001b[38;5;129;01mnot\u001b[39;00m \u001b[38;5;28misinstance\u001b[39m(results, \u001b[38;5;28mlist\u001b[39m):\n\u001b[1;32m    204\u001b[0m     results \u001b[38;5;241m=\u001b[39m [results]\n",
      "File \u001b[0;32m~/miniconda3/lib/python3.12/site-packages/trimesh/exchange/stl.py:53\u001b[0m, in \u001b[0;36mload_stl\u001b[0;34m(file_obj, **kwargs)\u001b[0m\n\u001b[1;32m     49\u001b[0m file_obj\u001b[38;5;241m.\u001b[39mseek(file_pos)\n\u001b[1;32m     50\u001b[0m \u001b[38;5;66;03m# try to load the file as an ASCII STL\u001b[39;00m\n\u001b[1;32m     51\u001b[0m \u001b[38;5;66;03m# if the header doesn't match the file length\u001b[39;00m\n\u001b[1;32m     52\u001b[0m \u001b[38;5;66;03m# HeaderError will be raised\u001b[39;00m\n\u001b[0;32m---> 53\u001b[0m \u001b[38;5;28;01mreturn\u001b[39;00m \u001b[43mload_stl_ascii\u001b[49m\u001b[43m(\u001b[49m\u001b[43mfile_obj\u001b[49m\u001b[43m)\u001b[49m\n",
      "File \u001b[0;32m~/miniconda3/lib/python3.12/site-packages/trimesh/exchange/stl.py:158\u001b[0m, in \u001b[0;36mload_stl_ascii\u001b[0;34m(file_obj)\u001b[0m\n\u001b[1;32m    140\u001b[0m \u001b[38;5;250m\u001b[39m\u001b[38;5;124;03m\"\"\"\u001b[39;00m\n\u001b[1;32m    141\u001b[0m \u001b[38;5;124;03mLoad an ASCII STL file from a file object.\u001b[39;00m\n\u001b[1;32m    142\u001b[0m \n\u001b[0;32m   (...)\u001b[0m\n\u001b[1;32m    154\u001b[0m \u001b[38;5;124;03m  face_normals: (m, 3) float, normal vector of each face\u001b[39;00m\n\u001b[1;32m    155\u001b[0m \u001b[38;5;124;03m\"\"\"\u001b[39;00m\n\u001b[1;32m    157\u001b[0m \u001b[38;5;66;03m# read all text into one string\u001b[39;00m\n\u001b[0;32m--> 158\u001b[0m raw_mixed \u001b[38;5;241m=\u001b[39m \u001b[43mutil\u001b[49m\u001b[38;5;241;43m.\u001b[39;49m\u001b[43mdecode_text\u001b[49m\u001b[43m(\u001b[49m\u001b[43mfile_obj\u001b[49m\u001b[38;5;241;43m.\u001b[39;49m\u001b[43mread\u001b[49m\u001b[43m(\u001b[49m\u001b[43m)\u001b[49m\u001b[43m)\u001b[49m\u001b[38;5;241m.\u001b[39mstrip()\n\u001b[1;32m    159\u001b[0m \u001b[38;5;66;03m# convert to lower case for solids and name capture\u001b[39;00m\n\u001b[1;32m    160\u001b[0m raw_lower \u001b[38;5;241m=\u001b[39m raw_mixed\u001b[38;5;241m.\u001b[39mlower()\n",
      "File \u001b[0;32m~/miniconda3/lib/python3.12/site-packages/trimesh/util.py:2291\u001b[0m, in \u001b[0;36mdecode_text\u001b[0;34m(text, initial)\u001b[0m\n\u001b[1;32m   2285\u001b[0m     log\u001b[38;5;241m.\u001b[39mdebug(\n\u001b[1;32m   2286\u001b[0m         \u001b[38;5;124m\"\u001b[39m\u001b[38;5;124mData not \u001b[39m\u001b[38;5;132;01m{}\u001b[39;00m\u001b[38;5;124m! Trying \u001b[39m\u001b[38;5;132;01m{}\u001b[39;00m\u001b[38;5;124m (confidence \u001b[39m\u001b[38;5;132;01m{}\u001b[39;00m\u001b[38;5;124m)\u001b[39m\u001b[38;5;124m\"\u001b[39m\u001b[38;5;241m.\u001b[39mformat(\n\u001b[1;32m   2287\u001b[0m             initial, detect[\u001b[38;5;124m\"\u001b[39m\u001b[38;5;124mencoding\u001b[39m\u001b[38;5;124m\"\u001b[39m], detect[\u001b[38;5;124m\"\u001b[39m\u001b[38;5;124mconfidence\u001b[39m\u001b[38;5;124m\"\u001b[39m]\n\u001b[1;32m   2288\u001b[0m         )\n\u001b[1;32m   2289\u001b[0m     )\n\u001b[1;32m   2290\u001b[0m     \u001b[38;5;66;03m# try to decode again, unwrap in try\u001b[39;00m\n\u001b[0;32m-> 2291\u001b[0m     text \u001b[38;5;241m=\u001b[39m \u001b[43mtext\u001b[49m\u001b[38;5;241;43m.\u001b[39;49m\u001b[43mdecode\u001b[49m\u001b[43m(\u001b[49m\u001b[43mdetect\u001b[49m\u001b[43m[\u001b[49m\u001b[38;5;124;43m\"\u001b[39;49m\u001b[38;5;124;43mencoding\u001b[39;49m\u001b[38;5;124;43m\"\u001b[39;49m\u001b[43m]\u001b[49m\u001b[43m,\u001b[49m\u001b[43m \u001b[49m\u001b[43merrors\u001b[49m\u001b[38;5;241;43m=\u001b[39;49m\u001b[38;5;124;43m\"\u001b[39;49m\u001b[38;5;124;43mignore\u001b[39;49m\u001b[38;5;124;43m\"\u001b[39;49m\u001b[43m)\u001b[49m\n\u001b[1;32m   2292\u001b[0m \u001b[38;5;28;01mreturn\u001b[39;00m text\n",
      "\u001b[0;31mTypeError\u001b[0m: decode() argument 'encoding' must be str, not None"
     ]
    }
   ],
   "source": [
    "# TODO: Try non-watertight google drive repository\n",
    "# Load the STL file\n",
    "mesh_view = trimesh.load(\"../../data/raw/rawcloud/0a7ab8b4-ab18-4524-b8e7-e773ebc6b268.stl00-1.stl\", file_type='stl')\n",
    "\n",
    "# Display the mesh\n",
    "mesh_view.show()"
   ]
  },
  {
   "cell_type": "markdown",
   "metadata": {},
   "source": [
    "#### Build Graph Tensor"
   ]
  },
  {
   "cell_type": "code",
   "execution_count": 7,
   "metadata": {},
   "outputs": [],
   "source": [
    "# TODO: Store filenames with graph representation for easy viewing later\n",
    "def stl_to_graph(file_path):\n",
    "    # Load the mesh\n",
    "    mesh = trimesh.load_mesh(file_path)\n",
    "    \n",
    "    # Extract vertices and faces\n",
    "    vertices = mesh.vertices  # NumPy array of shape (num_vertices, 3)\n",
    "    faces = mesh.faces  # NumPy array of shape (num_faces, 3)\n",
    "    \n",
    "    # Convert vertices to tensor\n",
    "    x = torch.tensor(vertices, dtype=torch.float)\n",
    "    \n",
    "    # Build edge_index from faces\n",
    "    edge_index = build_edge_index(faces)\n",
    "    \n",
    "    # Create graph data object\n",
    "    data = Data(x=x, edge_index=edge_index)\n",
    "    return data\n",
    "\n",
    "def build_edge_index(faces):\n",
    "    # Extract edges from faces\n",
    "    edges = []\n",
    "    for face in faces:\n",
    "        v1, v2, v3 = face\n",
    "        # Add edges (both directions for undirected graphs)\n",
    "        edges.extend([[v1, v2], [v2, v1],\n",
    "                      [v2, v3], [v3, v2],\n",
    "                      [v3, v1], [v1, v3]])\n",
    "    # Convert to tensor and remove duplicate edges\n",
    "    edge_index = torch.tensor(edges, dtype=torch.long).t().contiguous()\n",
    "    edge_index = torch.unique(edge_index, dim=1)\n",
    "    return edge_index"
   ]
  },
  {
   "cell_type": "markdown",
   "metadata": {},
   "source": [
    "#### Generate Graphs per STL"
   ]
  },
  {
   "cell_type": "code",
   "execution_count": null,
   "metadata": {},
   "outputs": [],
   "source": [
    "import json\n",
    "\n",
    "with open('../data/raw/sanitized_dict.json', 'r') as f:\n",
    "    quality_scores = json.load(f)\n",
    "\n",
    "# Convert string quality scores to floats\n",
    "for key in quality_scores:\n",
    "    quality_scores[key] = float(quality_scores[key])"
   ]
  },
  {
   "cell_type": "code",
   "execution_count": 14,
   "metadata": {},
   "outputs": [],
   "source": [
    "import os\n",
    "\n",
    "def standardize_filename(file_path):\n",
    "    return os.path.basename(file_path)\n",
    "\n",
    "quality_scores_standardized = {\n",
    "    standardize_filename(k): v for k, v in quality_scores.items()\n",
    "}"
   ]
  },
  {
   "cell_type": "code",
   "execution_count": null,
   "metadata": {},
   "outputs": [],
   "source": [
    "import glob\n",
    "\n",
    "# Paths\n",
    "stl_files_directory = '../data/raw/repaired_files/'\n",
    "stl_files = glob.glob(os.path.join(stl_files_directory, '*.stl'))\n",
    "\n",
    "dataset = []\n",
    "missing_scores = []\n",
    "\n",
    "for file_path in stl_files:\n",
    "    filename = standardize_filename(file_path)\n",
    "    if filename in quality_scores_standardized:\n",
    "        quality_score = quality_scores_standardized[filename]\n",
    "        try:\n",
    "            # Convert STL to graph\n",
    "            graph = stl_to_graph(file_path)\n",
    "            # Add the quality score as the target label\n",
    "            graph.y = torch.tensor([quality_score], dtype=torch.float)\n",
    "            # Append to the dataset\n",
    "            dataset.append(graph)\n",
    "        except Exception as e:\n",
    "            print(f\"Error processing {file_path}: {e}\")\n",
    "    else:\n",
    "        print(f\"No quality score for {file_path}\")\n",
    "        missing_scores.append(file_path)"
   ]
  },
  {
   "cell_type": "code",
   "execution_count": 22,
   "metadata": {},
   "outputs": [
    {
     "name": "stdout",
     "output_type": "stream",
     "text": [
      "Data(x=[12, 3], edge_index=[2, 60], y=[1])\n"
     ]
    }
   ],
   "source": [
    "# View Data Properties\n",
    "if len(dataset) > 0:\n",
    "    graph = dataset[100]\n",
    "    print(graph)\n",
    "else:\n",
    "    print(\"Dataset is empty.\")"
   ]
  },
  {
   "cell_type": "markdown",
   "metadata": {},
   "source": [
    "#### Save"
   ]
  },
  {
   "cell_type": "code",
   "execution_count": null,
   "metadata": {},
   "outputs": [],
   "source": [
    "torch.save(dataset, '../data/processed/repaired_graph_dataset.pt')"
   ]
  }
 ],
 "metadata": {
  "kernelspec": {
   "display_name": "base",
   "language": "python",
   "name": "python3"
  },
  "language_info": {
   "codemirror_mode": {
    "name": "ipython",
    "version": 3
   },
   "file_extension": ".py",
   "mimetype": "text/x-python",
   "name": "python",
   "nbconvert_exporter": "python",
   "pygments_lexer": "ipython3",
   "version": "3.12.3"
  }
 },
 "nbformat": 4,
 "nbformat_minor": 2
}
