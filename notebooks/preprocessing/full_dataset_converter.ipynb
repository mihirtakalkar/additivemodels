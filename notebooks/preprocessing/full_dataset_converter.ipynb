{
 "cells": [
  {
   "cell_type": "markdown",
   "metadata": {},
   "source": [
    "#### STL Conversion to Individual Graph Files"
   ]
  },
  {
   "cell_type": "code",
   "execution_count": 1,
   "metadata": {},
   "outputs": [],
   "source": [
    "# Imports\n",
    "import os\n",
    "import glob\n",
    "import torch\n",
    "from torch_geometric.data import Data\n",
    "import trimesh\n",
    "from torch_geometric.data import DataLoader"
   ]
  },
  {
   "cell_type": "code",
   "execution_count": 2,
   "metadata": {},
   "outputs": [],
   "source": [
    "def stl_to_graph(file_path):\n",
    "    # Load the mesh\n",
    "    mesh = trimesh.load_mesh(file_path)\n",
    "    \n",
    "    # Extract vertices and faces\n",
    "    vertices = mesh.vertices  # NumPy array of shape (num_vertices, 3)\n",
    "    faces = mesh.faces  # NumPy array of shape (num_faces, 3)\n",
    "    \n",
    "    # Convert vertices to tensor\n",
    "    x = torch.tensor(vertices, dtype=torch.float)\n",
    "    \n",
    "    # Build edge_index from faces\n",
    "    edge_index = build_edge_index(faces)\n",
    "    \n",
    "    # Create graph data object\n",
    "    data = Data(x=x, edge_index=edge_index)\n",
    "    return data\n",
    "\n",
    "def build_edge_index(faces):\n",
    "    # Extract edges from faces\n",
    "    edges = []\n",
    "    for face in faces:\n",
    "        v1, v2, v3 = face\n",
    "        # Add edges (both directions for undirected graphs)\n",
    "        edges.extend([[v1, v2], [v2, v1],\n",
    "                      [v2, v3], [v3, v2],\n",
    "                      [v3, v1], [v1, v3]])\n",
    "    # Convert to tensor and remove duplicate edges\n",
    "    edge_index = torch.tensor(edges, dtype=torch.long).t().contiguous()\n",
    "    edge_index = torch.unique(edge_index, dim=1)\n",
    "    return edge_index"
   ]
  },
  {
   "cell_type": "markdown",
   "metadata": {},
   "source": [
    "#### Analyze QS Distribution"
   ]
  },
  {
   "cell_type": "code",
   "execution_count": 8,
   "metadata": {},
   "outputs": [],
   "source": [
    "import json\n",
    "import matplotlib.pyplot as plt\n",
    "\n",
    "# Load JSON data\n",
    "def load_json(file_path):\n",
    "    with open(file_path, 'r') as f:\n",
    "        data = json.load(f)\n",
    "    return data\n",
    "\n",
    "# Extract QS values\n",
    "def extract_qs(data):\n",
    "    return list(data.values())\n",
    "\n",
    "# Plot distribution of QS\n",
    "def plot_qs_distribution(qs_values):\n",
    "    plt.figure(figsize=(10, 6))\n",
    "    plt.hist(qs_values, bins=10, edgecolor='k', alpha=0.7)\n",
    "    plt.title('Distribution of Quality Scores (QS)', fontsize=16)\n",
    "    plt.xlabel('QS Value', fontsize=14)\n",
    "    plt.ylabel('Frequency', fontsize=14)\n",
    "    plt.grid(True, alpha=0.5)\n",
    "    plt.show()"
   ]
  },
  {
   "cell_type": "code",
   "execution_count": null,
   "metadata": {},
   "outputs": [],
   "source": [
    "# Plot\n",
    "file_path = '../../data/labels/stl.json'\n",
    "data = load_json(file_path)\n",
    "qs_values = extract_qs(data)"
   ]
  },
  {
   "cell_type": "code",
   "execution_count": null,
   "metadata": {},
   "outputs": [],
   "source": [
    "with open('../../data/labels/stl.json', 'r') as f:\n",
    "    quality_scores = json.load(f)\n",
    "\n",
    "# Convert string quality scores to floats\n",
    "for key in quality_scores:\n",
    "    quality_scores[key] = float(quality_scores[key])"
   ]
  },
  {
   "cell_type": "code",
   "execution_count": null,
   "metadata": {},
   "outputs": [],
   "source": [
    "# TODO: Normalize Quality Scores\n",
    "import os\n",
    "\n",
    "def standardize_filename(file_path):\n",
    "    return os.path.basename(file_path)\n",
    "\n",
    "quality_scores_standardized = {\n",
    "    standardize_filename(k): v for k, v in quality_scores.items()\n",
    "}"
   ]
  },
  {
   "cell_type": "markdown",
   "metadata": {},
   "source": [
    "Save individual graphs in PT format"
   ]
  },
  {
   "cell_type": "code",
   "execution_count": null,
   "metadata": {},
   "outputs": [],
   "source": [
    "stl_files_directory = '../../data/fulldata/'\n",
    "output_directory = '../../data/processed/processed_graphs/'\n",
    "os.makedirs(output_directory, exist_ok=True)\n",
    "\n",
    "stl_files = glob.glob(os.path.join(stl_files_directory, '**', '*.stl'), recursive=True)\n",
    "\n",
    "for file_path in stl_files:\n",
    "    filename = os.path.basename(file_path)\n",
    "    if filename in quality_scores_standardized:\n",
    "        quality_score = quality_scores_standardized[filename]\n",
    "        try:\n",
    "            # Convert STL to graph\n",
    "            graph = stl_to_graph(file_path)\n",
    "            # Add the quality score as the target label\n",
    "            graph.y = torch.tensor([quality_score], dtype=torch.float)\n",
    "            # Save the graph to disk individually\n",
    "            torch.save(graph, os.path.join(output_directory, filename + '.pt'))\n",
    "        except Exception as e:\n",
    "            print(f\"Error processing {file_path}: {e}\")\n",
    "    else:\n",
    "        print(f\"No quality score for {file_path}\")"
   ]
  }
 ],
 "metadata": {
  "kernelspec": {
   "display_name": "base",
   "language": "python",
   "name": "python3"
  },
  "language_info": {
   "codemirror_mode": {
    "name": "ipython",
    "version": 3
   },
   "file_extension": ".py",
   "mimetype": "text/x-python",
   "name": "python",
   "nbconvert_exporter": "python",
   "pygments_lexer": "ipython3",
   "version": "3.12.2"
  }
 },
 "nbformat": 4,
 "nbformat_minor": 2
}
